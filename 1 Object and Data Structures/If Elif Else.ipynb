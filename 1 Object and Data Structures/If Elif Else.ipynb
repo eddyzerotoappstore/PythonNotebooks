{
 "cells": [
  {
   "cell_type": "code",
   "execution_count": 2,
   "metadata": {},
   "outputs": [
    {
     "name": "stdout",
     "output_type": "stream",
     "text": [
      "It's true!\n"
     ]
    }
   ],
   "source": [
    "if True:\n",
    "    print(\"It's true!\")"
   ]
  },
  {
   "cell_type": "code",
   "execution_count": 5,
   "metadata": {},
   "outputs": [
    {
     "name": "stdout",
     "output_type": "stream",
     "text": [
      "party time!\n"
     ]
    }
   ],
   "source": [
    "tired = False \n",
    "if tired:\n",
    "    print('sleep time')\n",
    "else:\n",
    "    print('party time!')"
   ]
  },
  {
   "cell_type": "code",
   "execution_count": 12,
   "metadata": {},
   "outputs": [
    {
     "name": "stdout",
     "output_type": "stream",
     "text": [
      "I don't know what this food is\n",
      "food is not found\n"
     ]
    }
   ],
   "source": [
    "food = 'pizza'\n",
    "if food == 'burger':\n",
    "    print(\"I like burgers\")\n",
    "elif food == 'steak':\n",
    "    print(\"I like steak!\")\n",
    "elif food == 'sushi':\n",
    "    print('I like sushi')\n",
    "else:\n",
    "    print(\"I don't know what this food is\")\n",
    "    print(\"food is not found\")"
   ]
  },
  {
   "cell_type": "code",
   "execution_count": null,
   "metadata": {},
   "outputs": [],
   "source": []
  }
 ],
 "metadata": {
  "kernelspec": {
   "display_name": "Python 3",
   "language": "python",
   "name": "python3"
  },
  "language_info": {
   "codemirror_mode": {
    "name": "ipython",
    "version": 3
   },
   "file_extension": ".py",
   "mimetype": "text/x-python",
   "name": "python",
   "nbconvert_exporter": "python",
   "pygments_lexer": "ipython3",
   "version": "3.7.6"
  }
 },
 "nbformat": 4,
 "nbformat_minor": 4
}
